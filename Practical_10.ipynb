{
  "nbformat": 4,
  "nbformat_minor": 0,
  "metadata": {
    "colab": {
      "provenance": [],
      "authorship_tag": "ABX9TyNW5n2DKicn1RJOFeQlSumo",
      "include_colab_link": true
    },
    "kernelspec": {
      "name": "python3",
      "display_name": "Python 3"
    },
    "language_info": {
      "name": "python"
    }
  },
  "cells": [
    {
      "cell_type": "markdown",
      "metadata": {
        "id": "view-in-github",
        "colab_type": "text"
      },
      "source": [
        "<a href=\"https://colab.research.google.com/github/smrutipunto/NLP/blob/main/Practical_10.ipynb\" target=\"_parent\"><img src=\"https://colab.research.google.com/assets/colab-badge.svg\" alt=\"Open In Colab\"/></a>"
      ]
    },
    {
      "cell_type": "code",
      "execution_count": null,
      "metadata": {
        "id": "9NpEjhVsv4cP"
      },
      "outputs": [],
      "source": [
        "# Implement One real time NLP Application on a dataset available.\n",
        "!pip install transformers\n",
        "from transformers import pipeline\n",
        "translator = pipeline(\"translation\", model=\"Helsinki-NLP/opus-mt-en-hi\")\n",
        "\n",
        "def translate_to_hindi(text):\n",
        "    translation = translator(text)\n",
        "    return translation[0]['translation_text']\n",
        "\n",
        "import pandas as pd\n",
        "data = {\n",
        "    \"English\": [\n",
        "        \"Hello, how are you?\",\n",
        "        \"What is your name?\",\n",
        "        \"The weather is nice today.\",\n",
        "        \"I love programming.\",\n",
        "        \"Can you help me with this task?\"\n",
        "    ]\n",
        "}\n",
        "df = pd.DataFrame(data)\n",
        "print(\"Sample Dataset:\")\n",
        "print(df)\n",
        "\n",
        "df['Hindi'] = df['English'].apply(translate_to_hindi)\n",
        "print(\"Translated Dataset:\")\n",
        "print(df)"
      ]
    },
    {
      "cell_type": "code",
      "source": [
        "while True:\n",
        "    text = input(\"Enter an English sentence to translate to Hindi (or type 'exit' to quit): \")\n",
        "    if text.lower() == 'exit':\n",
        "        print(\"Exiting the application.\")\n",
        "        break\n",
        "    hindi_translation = translate_to_hindi(text)\n",
        "    print(f\"Translation in Hindi: {hindi_translation}\")"
      ],
      "metadata": {
        "id": "VDOtlQw91Qqy"
      },
      "execution_count": null,
      "outputs": []
    }
  ]
}