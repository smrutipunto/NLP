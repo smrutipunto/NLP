{
  "nbformat": 4,
  "nbformat_minor": 0,
  "metadata": {
    "colab": {
      "provenance": [],
      "authorship_tag": "ABX9TyNPc5t/5XmYN70XVc/dHjkf",
      "include_colab_link": true
    },
    "kernelspec": {
      "name": "python3",
      "display_name": "Python 3"
    },
    "language_info": {
      "name": "python"
    }
  },
  "cells": [
    {
      "cell_type": "markdown",
      "metadata": {
        "id": "view-in-github",
        "colab_type": "text"
      },
      "source": [
        "<a href=\"https://colab.research.google.com/github/smrutipunto/NLP/blob/main/Prcatical_4.ipynb\" target=\"_parent\"><img src=\"https://colab.research.google.com/assets/colab-badge.svg\" alt=\"Open In Colab\"/></a>"
      ]
    },
    {
      "cell_type": "code",
      "execution_count": null,
      "metadata": {
        "id": "paUVc-FUt65y"
      },
      "outputs": [],
      "source": [
        "# Implement N-gram Model\n",
        "import nltk\n",
        "from collections import defaultdict, Counter\n",
        "\n",
        "# Ensure you have the necessary NLTK data\n",
        "nltk.download('punkt')\n",
        "nltk.download('punkt_tab')\n",
        "\n",
        "class UnigramModel:\n",
        "    def __init__(self):\n",
        "        self.word_freq = Counter()\n",
        "\n",
        "    def preprocess(self, text):\n",
        "        # Tokenization and cleaning\n",
        "        tokens = nltk.word_tokenize(text.lower())\n",
        "        tokens = [word for word in tokens if word.isalnum()]  # Removing punctuation\n",
        "        return tokens\n",
        "\n",
        "    def fit(self, text):\n",
        "        tokens = self.preprocess(text)\n",
        "        # Count word frequencies\n",
        "        self.word_freq.update(tokens)\n",
        "\n",
        "        # Debug: Print word frequencies\n",
        "        print(\"Word frequencies:\")\n",
        "        for word, freq in self.word_freq.items():\n",
        "            print(f\"{word}: {freq}\")\n",
        "\n",
        "    def predict(self, word):\n",
        "        # Return the top words based on frequency\n",
        "        most_common = self.word_freq.most_common(3)\n",
        "        return most_common\n",
        "\n",
        "14\n",
        "# Example usage\n",
        "if __name__ == \"__main__\":\n",
        "    # Sample text corpus\n",
        "    corpus = \"\"\"\n",
        "    Natural language processing (NLP) is a subfield of artificial intelligence (AI).\n",
        "    It enables computers to understand, interpret, and generate human language.\n",
        "    With advances in machine learning and deep learning, NLP has made significant strides.\n",
        "    Applications include sentiment analysis, machine translation, and chatbot development.\n",
        "    \"\"\"\n",
        "\n",
        "    # Create and fit unigram model\n",
        "    unigram_model = UnigramModel()\n",
        "    unigram_model.fit(corpus)\n",
        "\n",
        "    # Make predictions\n",
        "    print(\"Top 3 predicted words based on frequency:\")\n",
        "    predictions = unigram_model.predict('any_word')\n",
        "    print(predictions)  # Should show the top 3 words based on their frequencies"
      ]
    },
    {
      "cell_type": "code",
      "source": [
        "import nltk\n",
        "from collections import defaultdict, Counter\n",
        "\n",
        "nltk.download('punkt_tab')\n",
        "\n",
        "class NGramModel:\n",
        "    def __init__(self, n):\n",
        "        self.n = n\n",
        "        self.ngrams_freq = defaultdict(Counter)\n",
        "\n",
        "    def preprocess(self, text):\n",
        "        # Tokenization and cleaning\n",
        "        tokens = nltk.word_tokenize(text.lower())\n",
        "        tokens = [word for word in tokens if word.isalnum()]  # Removing punctuation\n",
        "        return tokens\n",
        "\n",
        "    def fit_bigram(self, text):\n",
        "        tokens = self.preprocess(text)\n",
        "        # Generate n-grams and count frequencies\n",
        "        for i in range(len(tokens) - self.n + 1):\n",
        "            ngram = tuple(tokens[i:i + self.n])\n",
        "            self.ngrams_freq[ngram[:-1]][ngram[-1]] += 1  # Count the frequency of the last word\n",
        "\n",
        "            # Debug: Print the generated ngram\n",
        "            print(f\"Generated bigram: {ngram[:-1]} -> {ngram[-1]}\")\n",
        "\n",
        "    def predict_bigram(self, prefix):\n",
        "        prefix = self.preprocess(prefix)\n",
        "        if len(prefix) < self.n - 1:\n",
        "            return []  # Not enough words to form a prediction\n",
        "        prefix_tuple = tuple(prefix[-(self.n - 1):])  # Get the last (n-1) words\n",
        "        # Debug: Print the prefix tuple being checked\n",
        "        print(f\"Checking prefix: {prefix_tuple}\")\n",
        "\n",
        "        if prefix_tuple in self.ngrams_freq:\n",
        "            next_words = self.ngrams_freq[prefix_tuple]\n",
        "            return next_words.most_common(3)  # Return top 3 predictions\n",
        "        else:\n",
        "            return []\n",
        "\n",
        "if __name__ == \"__main__\":\n",
        "    # Sample text corpus\n",
        "    corpus = \"\"\"\n",
        "    Natural language processing (NLP) is a subfield of artificial intelligence (AI).\n",
        "    It enables computers to understand, interpret, and generate human language.\n",
        "    With advances in machine learning and deep learning, NLP has made significant strides.\n",
        "    Applications include sentiment analysis, machine translation, and chatbot development.\n",
        "    \"\"\"\n",
        "    # Create and fit bigram model\n",
        "    bigram_model = NGramModel(n=2)\n",
        "    bigram_model.fit_bigram(corpus)\n",
        "\n",
        "    # Make predictions\n",
        "    print(\"Bigram Predictions for 'natural language':\")\n",
        "    predictions = bigram_model.predict_bigram('natural language')\n",
        "    print(predictions)  # Should only include 'processing'"
      ],
      "metadata": {
        "id": "Pw38J6UOuQ3S"
      },
      "execution_count": null,
      "outputs": []
    },
    {
      "cell_type": "code",
      "source": [],
      "metadata": {
        "id": "LEAiA9uqu7Df"
      },
      "execution_count": null,
      "outputs": []
    }
  ]
}