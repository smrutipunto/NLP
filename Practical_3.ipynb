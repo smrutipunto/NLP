{
  "nbformat": 4,
  "nbformat_minor": 0,
  "metadata": {
    "colab": {
      "provenance": [],
      "include_colab_link": true
    },
    "kernelspec": {
      "name": "python3",
      "display_name": "Python 3"
    },
    "language_info": {
      "name": "python"
    }
  },
  "cells": [
    {
      "cell_type": "markdown",
      "metadata": {
        "id": "view-in-github",
        "colab_type": "text"
      },
      "source": [
        "<a href=\"https://colab.research.google.com/github/smrutipunto/NLP/blob/main/Practical_3.ipynb\" target=\"_parent\"><img src=\"https://colab.research.google.com/assets/colab-badge.svg\" alt=\"Open In Colab\"/></a>"
      ]
    },
    {
      "cell_type": "code",
      "source": [
        "import nltk\n",
        "from nltk.tokenize import word_tokenize\n",
        "from nltk.corpus import stopwords\n",
        "from nltk.stem import WordNetLemmatizer\n",
        "import string\n",
        "\n",
        "# Download necessary NLTK resources (run once)\n",
        "nltk.download('punkt')\n",
        "nltk.download('stopwords')\n",
        "nltk.download('wordnet')\n",
        "\n",
        "def morphological_analysis(text):\n",
        "    # Initialize lemmatizer\n",
        "    lemmatizer = WordNetLemmatizer()\n",
        "\n",
        "    # Tokenization\n",
        "    tokens = word_tokenize(text)\n",
        "\n",
        "    # Stop-words removal\n",
        "    stop_words = set(stopwords.words('english'))\n",
        "    filtered_tokens = [word for word in tokens if word.lower() not in stop_words]\n",
        "\n",
        "    # Text normalization\n",
        "    normalized_tokens = [word.lower().strip(string.punctuation) for word in filtered_tokens]\n",
        "\n",
        "    # Morphological analysis using lemmatization\n",
        "    lemmatized_tokens = [lemmatizer.lemmatize(word, pos='n') for word in normalized_tokens]\n",
        "\n",
        "    return lemmatized_tokens\n",
        "\n",
        "# Example usage\n",
        "text_sample = \"The cats are playing with the ball and they are enjoying happiness\"\n",
        "processed_text = morphological_analysis(text_sample)\n",
        "print(processed_text)\n"
      ],
      "metadata": {
        "colab": {
          "base_uri": "https://localhost:8080/"
        },
        "id": "MoKH9Vq4EV7E",
        "outputId": "4a5c5f87-619b-4382-9333-bcbfc8cfc199"
      },
      "execution_count": null,
      "outputs": [
        {
          "output_type": "stream",
          "name": "stdout",
          "text": [
            "['cat', 'playing', 'ball', 'enjoying', 'happiness']\n"
          ]
        },
        {
          "output_type": "stream",
          "name": "stderr",
          "text": [
            "[nltk_data] Downloading package punkt to /root/nltk_data...\n",
            "[nltk_data]   Package punkt is already up-to-date!\n",
            "[nltk_data] Downloading package stopwords to /root/nltk_data...\n",
            "[nltk_data]   Package stopwords is already up-to-date!\n",
            "[nltk_data] Downloading package wordnet to /root/nltk_data...\n",
            "[nltk_data]   Package wordnet is already up-to-date!\n"
          ]
        }
      ]
    },
    {
      "cell_type": "code",
      "source": [
        "import spacy\n",
        "\n",
        "# Load the spaCy English model\n",
        "nlp = spacy.load(\"en_core_web_sm\")\n",
        "\n",
        "def spacy_morphological_analysis(word):\n",
        "    # Process the word\n",
        "    doc = nlp(word)\n",
        "    analyzed_forms = [(token.text, token.lemma_) for token in doc]\n",
        "    return analyzed_forms\n",
        "\n",
        "# Example usage\n",
        "word_sample = \"playing\"\n",
        "analyzed_word = spacy_morphological_analysis(word_sample)\n",
        "print(analyzed_word)"
      ],
      "metadata": {
        "colab": {
          "base_uri": "https://localhost:8080/"
        },
        "id": "mP612D4_Csoy",
        "outputId": "2def5c37-4ab8-4b08-d0af-2b6983de0173"
      },
      "execution_count": null,
      "outputs": [
        {
          "output_type": "stream",
          "name": "stdout",
          "text": [
            "[('playing', 'play')]\n"
          ]
        }
      ]
    },
    {
      "cell_type": "code",
      "execution_count": null,
      "metadata": {
        "colab": {
          "base_uri": "https://localhost:8080/"
        },
        "id": "rdsommIv8gAY",
        "outputId": "783bb770-2fbd-4ef8-e973-d07e4a0b67c0"
      },
      "outputs": [
        {
          "output_type": "stream",
          "name": "stdout",
          "text": [
            "['reported', 'cat', 'enjoy', 'happi', 'cats', 'enjoying', 'report', '-ness', 'ing', 'unhappines', 'un-', 'ball', 'ed', 'play', 'playing']\n"
          ]
        },
        {
          "output_type": "stream",
          "name": "stderr",
          "text": [
            "[nltk_data] Downloading package punkt to /root/nltk_data...\n",
            "[nltk_data]   Package punkt is already up-to-date!\n",
            "[nltk_data] Downloading package stopwords to /root/nltk_data...\n",
            "[nltk_data]   Package stopwords is already up-to-date!\n"
          ]
        }
      ],
      "source": [
        "import nltk\n",
        "from nltk.tokenize import word_tokenize\n",
        "from nltk.corpus import stopwords\n",
        "import string\n",
        "\n",
        "# Ensure NLTK resources are downloaded\n",
        "nltk.download('punkt')\n",
        "nltk.download('stopwords')\n",
        "\n",
        "# Sample for a morphological parser function\n",
        "# hello\n",
        "#h=0, e=1,l=2, o = 4\n",
        "#hello : o = -1, l = -2, h = -5\n",
        "def morphological_parsing(word):\n",
        "    morphemes = []\n",
        "    if word.startswith('un') and len(word) > 8:  # Checks if it starts with 'un' and is long enough\n",
        "        morphemes.append('un-')  # Add the prefix\n",
        "        base_word = word[2:-4]  # Extract the root (removing 'un' and 'ness')\n",
        "        morphemes.append(base_word)  # Add the root\n",
        "        morphemes.append('-ness')  # Add the suffix\n",
        "    elif word.endswith('ness') and len(word) > 4:  # Checks if it ends with 'ness' and is long enough\n",
        "        base_word = word[:-4]  # Remove 'ness'\n",
        "        morphemes.append(base_word)  # Add the root\n",
        "        morphemes.append('-ness')  # Add the suffix\n",
        "    elif word.endswith('ing') and len(word) > 3:\n",
        "        morphemes.append(word[:-3])  # Remove 'ing'\n",
        "        morphemes.append('ing')\n",
        "    elif word.endswith('ed') and len(word) > 2:\n",
        "        morphemes.append(word[:-2])  # Remove 'ed'\n",
        "        morphemes.append('ed')\n",
        "    else:\n",
        "        morphemes.append(word)  # Return the word as is\n",
        "    return morphemes\n",
        "\n",
        "# Placeholder for Finite State Transducer (FST) example\n",
        "def finite_state_transducer(word):\n",
        "    if word.endswith('s'):\n",
        "        return word[:-1]  # Remove plural 's'\n",
        "    return word\n",
        "\n",
        "def morphological_analysis(text):\n",
        "    # Tokenization\n",
        "    tokens = word_tokenize(text)\n",
        "\n",
        "    # Stop-words removal\n",
        "    stop_words = set(stopwords.words('english'))\n",
        "    filtered_tokens = [word for word in tokens if word.lower() not in stop_words]\n",
        "\n",
        "    # Text normalization\n",
        "    normalized_tokens = [word.lower().strip(string.punctuation) for word in filtered_tokens]\n",
        "\n",
        "    # Morphological analysis using lemmatization and other methods\n",
        "    processed_tokens = []\n",
        "    for word in normalized_tokens:\n",
        "        # Apply finite state transducer\n",
        "        base_form = finite_state_transducer(word)\n",
        "        processed_tokens.append(base_form)  # Add the base form to the processed tokens\n",
        "        # Apply morphological parsing\n",
        "        morphemes = morphological_parsing(word)\n",
        "        processed_tokens.extend(morphemes)  # Add morphemes to the processed tokens\n",
        "\n",
        "    return list(set(processed_tokens))  # Return unique processed tokens\n",
        "\n",
        "# Example usage\n",
        "text_sample = \"The cats are playing with the ball and they are enjoying No unhappiness reported\"\n",
        "processed_text = morphological_analysis(text_sample)\n",
        "print(processed_text)\n"
      ]
    }
  ]
}