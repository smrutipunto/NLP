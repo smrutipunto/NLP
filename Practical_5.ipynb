{
  "nbformat": 4,
  "nbformat_minor": 0,
  "metadata": {
    "colab": {
      "provenance": [],
      "authorship_tag": "ABX9TyMmnbrd7seejiPp70PULQyL",
      "include_colab_link": true
    },
    "kernelspec": {
      "name": "python3",
      "display_name": "Python 3"
    },
    "language_info": {
      "name": "python"
    }
  },
  "cells": [
    {
      "cell_type": "markdown",
      "metadata": {
        "id": "view-in-github",
        "colab_type": "text"
      },
      "source": [
        "<a href=\"https://colab.research.google.com/github/smrutipunto/NLP/blob/main/Practical_5.ipynb\" target=\"_parent\"><img src=\"https://colab.research.google.com/assets/colab-badge.svg\" alt=\"Open In Colab\"/></a>"
      ]
    },
    {
      "cell_type": "code",
      "execution_count": null,
      "metadata": {
        "id": "0ARUP76ZvOmi"
      },
      "outputs": [],
      "source": [
        "# Implement Part-of-Speech tagging\n",
        "import nltk\n",
        "# Ensure you have the necessary NLTK data\n",
        "nltk.download('punkt_tab')\n",
        "nltk.download('averaged_perceptron_tagger_eng')\n",
        "def preprocess(text):\n",
        "    \"\"\"Tokenizes the input text into words.\"\"\"\n",
        "    tokens = nltk.word_tokenize(text)\n",
        "    return tokens\n",
        "def pos_tagging(text):\n",
        "    \"\"\"Performs Part of Speech tagging on the tokenized text.\"\"\"\n",
        "    tokens = preprocess(text)\n",
        "    tagged_tokens = nltk.pos_tag(tokens)\n",
        "    return tagged_tokens\n",
        "if __name__ == \"__main__\":\n",
        "    # Sample text corpus\n",
        "    text = \"\"\"\n",
        "    Natural language processing (NLP) is a fascinating field of artificial intelligence.\n",
        "    It allows computers to understand and interpret human language.\n",
        "    \"\"\"\n",
        "    # Perform POS tagging\n",
        "    tagged_output = pos_tagging(text)\n",
        "    # Display the tagged tokens\n",
        "    print(\"Tagged Tokens:\")\n",
        "    for token, tag in tagged_output:\n",
        "        print(f\"{token}: {tag}\")"
      ]
    },
    {
      "cell_type": "code",
      "source": [],
      "metadata": {
        "id": "oz8goFWmvgpf"
      },
      "execution_count": null,
      "outputs": []
    }
  ]
}